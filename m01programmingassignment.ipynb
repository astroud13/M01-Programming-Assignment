{
 "cells": [
  {
   "cell_type": "code",
   "execution_count": 4,
   "id": "3fc52f92-dce3-4c21-8069-68ebd15b4b87",
   "metadata": {},
   "outputs": [
    {
     "data": {
      "text/plain": [
       "3600"
      ]
     },
     "execution_count": 4,
     "metadata": {},
     "output_type": "execute_result"
    }
   ],
   "source": [
    "#Austin Stroud Module 1 Programming Assignment \n",
    "#3.1\n",
    "seconds_in_minute = 60 \n",
    "seconds_in_hour = seconds_in_minute * 60\n",
    "seconds_in_hour"
   ]
  },
  {
   "cell_type": "code",
   "execution_count": 5,
   "id": "7d6dea68-2aad-4eac-b596-4a379ac329de",
   "metadata": {},
   "outputs": [],
   "source": [
    "#3.2\n",
    "seconds_per_hour = seconds_in_hour"
   ]
  },
  {
   "cell_type": "code",
   "execution_count": 7,
   "id": "c11acf42-8cfb-4a06-9daa-5c4af4e61b9d",
   "metadata": {},
   "outputs": [
    {
     "data": {
      "text/plain": [
       "86400"
      ]
     },
     "execution_count": 7,
     "metadata": {},
     "output_type": "execute_result"
    }
   ],
   "source": [
    "#3.3\n",
    "seconds_in_day = seconds_per_hour * 24\n",
    "seconds_in_day"
   ]
  },
  {
   "cell_type": "code",
   "execution_count": 8,
   "id": "bb1b6eff-2d61-4a36-97e1-b8cd50336d7e",
   "metadata": {},
   "outputs": [],
   "source": [
    "seconds_per_day = seconds_per_hour * 24"
   ]
  },
  {
   "cell_type": "code",
   "execution_count": 9,
   "id": "0105226a-bfdd-47f1-9e10-03ac71b694e0",
   "metadata": {},
   "outputs": [
    {
     "data": {
      "text/plain": [
       "24.0"
      ]
     },
     "execution_count": 9,
     "metadata": {},
     "output_type": "execute_result"
    }
   ],
   "source": [
    "floating_point_result = seconds_per_day / seconds_per_hour\n",
    "floating_point_result"
   ]
  },
  {
   "cell_type": "code",
   "execution_count": 10,
   "id": "23c2b962-67c3-4218-8c67-7429d06c6e68",
   "metadata": {},
   "outputs": [
    {
     "data": {
      "text/plain": [
       "24"
      ]
     },
     "execution_count": 10,
     "metadata": {},
     "output_type": "execute_result"
    }
   ],
   "source": [
    "integer_result = seconds_per_day // seconds_per_hour\n",
    "integer_result"
   ]
  },
  {
   "cell_type": "code",
   "execution_count": 11,
   "id": "dd26d3a8-93b2-41f3-a54d-0b2d0bc21da2",
   "metadata": {},
   "outputs": [],
   "source": [
    "#Yes, this number agreed with the floating-point value from the previous question, aside from the final .0."
   ]
  }
 ],
 "metadata": {
  "kernelspec": {
   "display_name": "Python 3 (ipykernel)",
   "language": "python",
   "name": "python3"
  },
  "language_info": {
   "codemirror_mode": {
    "name": "ipython",
    "version": 3
   },
   "file_extension": ".py",
   "mimetype": "text/x-python",
   "name": "python",
   "nbconvert_exporter": "python",
   "pygments_lexer": "ipython3",
   "version": "3.11.7"
  }
 },
 "nbformat": 4,
 "nbformat_minor": 5
}
